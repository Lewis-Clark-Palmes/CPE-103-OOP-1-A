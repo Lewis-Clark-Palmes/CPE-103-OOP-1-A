{
  "nbformat": 4,
  "nbformat_minor": 0,
  "metadata": {
    "colab": {
      "provenance": [],
      "authorship_tag": "ABX9TyMrC7oRns0YM9JM9+0F8Whv",
      "include_colab_link": true
    },
    "kernelspec": {
      "name": "python3",
      "display_name": "Python 3"
    },
    "language_info": {
      "name": "python"
    }
  },
  "cells": [
    {
      "cell_type": "markdown",
      "metadata": {
        "id": "view-in-github",
        "colab_type": "text"
      },
      "source": [
        "<a href=\"https://colab.research.google.com/github/Lewis-Clark-Palmes/CPE-103-OOP-1-A/blob/main/Operations_and_Expressions_in_Python.ipynb\" target=\"_parent\"><img src=\"https://colab.research.google.com/assets/colab-badge.svg\" alt=\"Open In Colab\"/></a>"
      ]
    },
    {
      "cell_type": "markdown",
      "source": [
        "Boolean Operators"
      ],
      "metadata": {
        "id": "9IThpjFQxcdw"
      }
    },
    {
      "cell_type": "code",
      "execution_count": 3,
      "metadata": {
        "colab": {
          "base_uri": "https://localhost:8080/"
        },
        "id": "qB0x-XNIxVj5",
        "outputId": "26c5a3cb-7d67-44e5-e56f-83fb5c55bd94"
      },
      "outputs": [
        {
          "output_type": "stream",
          "name": "stdout",
          "text": [
            "True\n",
            "False\n",
            "False\n"
          ]
        }
      ],
      "source": [
        "print(10>9)\n",
        "print(10==9)\n",
        "print(10<9)"
      ]
    },
    {
      "cell_type": "markdown",
      "source": [
        "Bool() Function"
      ],
      "metadata": {
        "id": "BZbFbxoZyVF5"
      }
    },
    {
      "cell_type": "code",
      "source": [
        "print(bool(10))\n",
        "print(bool(0))\n",
        "print(bool(-4))\n"
      ],
      "metadata": {
        "colab": {
          "base_uri": "https://localhost:8080/"
        },
        "id": "aLSu_WdpyVQI",
        "outputId": "5ccc95d9-6224-4576-c84b-28033aa96ae1"
      },
      "execution_count": 6,
      "outputs": [
        {
          "output_type": "stream",
          "name": "stdout",
          "text": [
            "True\n",
            "False\n",
            "True\n"
          ]
        }
      ]
    },
    {
      "cell_type": "markdown",
      "source": [
        "Functions can Return a Boolean"
      ],
      "metadata": {
        "id": "QxPJZfg9zkjg"
      }
    },
    {
      "cell_type": "code",
      "source": [
        "def myFunction():\n",
        "  return True\n",
        "\n",
        "print(myFunction())\n"
      ],
      "metadata": {
        "colab": {
          "base_uri": "https://localhost:8080/"
        },
        "id": "ER9RaQGpzDhC",
        "outputId": "3376a8ca-db69-4680-f341-553c4a3bb0de"
      },
      "execution_count": 16,
      "outputs": [
        {
          "output_type": "stream",
          "name": "stdout",
          "text": [
            "True\n"
          ]
        }
      ]
    },
    {
      "cell_type": "code",
      "source": [
        "def myFunction():\n",
        "  return True #false will print no\n",
        "\n",
        "if myFunction():\n",
        "  print(\"YES!\")\n",
        "else:\n",
        "  print(\"NO!\")\n",
        "\n",
        "print(10>9)\n",
        "a=6\n",
        "b=7\n",
        "print(a==b)\n",
        "print(a!=a)"
      ],
      "metadata": {
        "colab": {
          "base_uri": "https://localhost:8080/"
        },
        "id": "rnxSaLCe00Py",
        "outputId": "b0baae83-7e4c-4675-d665-cad98d73f220"
      },
      "execution_count": 20,
      "outputs": [
        {
          "output_type": "stream",
          "name": "stdout",
          "text": [
            "YES!\n",
            "True\n",
            "False\n",
            "False\n"
          ]
        }
      ]
    },
    {
      "cell_type": "markdown",
      "source": [
        "Python Operators"
      ],
      "metadata": {
        "id": "E91ZUncT1hsi"
      }
    },
    {
      "cell_type": "code",
      "source": [
        "print(10+5)\n",
        "print(10-5)\n",
        "print(10*5)\n",
        "print(10/5)\n",
        "\n",
        "print(10/3)\n",
        "print(10//3)\n",
        "print(10%3)\n",
        "\n"
      ],
      "metadata": {
        "colab": {
          "base_uri": "https://localhost:8080/"
        },
        "id": "9nBG2NOw1i2p",
        "outputId": "8af3a381-e992-469a-a5a0-3ee14634d432"
      },
      "execution_count": 27,
      "outputs": [
        {
          "output_type": "stream",
          "name": "stdout",
          "text": [
            "15\n",
            "5\n",
            "50\n",
            "2.0\n",
            "3.3333333333333335\n",
            "3\n",
            "1\n"
          ]
        }
      ]
    },
    {
      "cell_type": "markdown",
      "source": [
        "Python Bitwise Operators"
      ],
      "metadata": {
        "id": "rG3iUwd03WMx"
      }
    },
    {
      "cell_type": "code",
      "source": [
        "a=60\n",
        "b=13\n",
        "\n",
        "print(a&b)\n",
        "print(a|b)\n",
        "print(a^b)\n",
        "print(~a)\n",
        "print(a<<2)"
      ],
      "metadata": {
        "colab": {
          "base_uri": "https://localhost:8080/"
        },
        "id": "GbLbeB_43VoK",
        "outputId": "d11ed526-0dd4-4ca5-dbfb-c173f7b1a81e"
      },
      "execution_count": 42,
      "outputs": [
        {
          "output_type": "stream",
          "name": "stdout",
          "text": [
            "12\n",
            "61\n",
            "49\n",
            "-61\n",
            "240\n"
          ]
        }
      ]
    },
    {
      "cell_type": "markdown",
      "source": [
        "Python Assignment Operator"
      ],
      "metadata": {
        "id": "ELh8pSSO-mlb"
      }
    },
    {
      "cell_type": "code",
      "source": [
        "x=3\n",
        "x+=3\n",
        "print(x)\n",
        "x-=3\n",
        "print(x)\n",
        "x*=3\n",
        "print(x)\n",
        "x/=3\n",
        "print(x)\n",
        "x%=3\n",
        "print(x)"
      ],
      "metadata": {
        "colab": {
          "base_uri": "https://localhost:8080/"
        },
        "id": "WNvmalTR-mvj",
        "outputId": "b2ac14ec-f861-41a0-b2cf-7b8fe4f623d7"
      },
      "execution_count": 46,
      "outputs": [
        {
          "output_type": "stream",
          "name": "stdout",
          "text": [
            "6\n",
            "3\n",
            "9\n",
            "3.0\n",
            "0.0\n"
          ]
        }
      ]
    },
    {
      "cell_type": "markdown",
      "source": [
        "Logical Operators"
      ],
      "metadata": {
        "id": "WLs8qt0eC0Xz"
      }
    },
    {
      "cell_type": "code",
      "source": [
        "not(10>9 and 9>10)"
      ],
      "metadata": {
        "colab": {
          "base_uri": "https://localhost:8080/"
        },
        "id": "lTxRAhXWCzZV",
        "outputId": "0db5e5cd-87bb-46b2-ee3d-ee7fca76827b"
      },
      "execution_count": 51,
      "outputs": [
        {
          "output_type": "execute_result",
          "data": {
            "text/plain": [
              "True"
            ]
          },
          "metadata": {},
          "execution_count": 51
        }
      ]
    },
    {
      "cell_type": "markdown",
      "source": [
        "Identity Operator"
      ],
      "metadata": {
        "id": "rltSnRNJGips"
      }
    },
    {
      "cell_type": "code",
      "source": [
        "x=1\n",
        "y=2\n",
        "print(x is y)\n",
        "print(x is not y)"
      ],
      "metadata": {
        "colab": {
          "base_uri": "https://localhost:8080/"
        },
        "id": "kPgOhA8DGibF",
        "outputId": "82bc7012-f75e-4bd2-9e43-9a25e1e8828c"
      },
      "execution_count": 58,
      "outputs": [
        {
          "output_type": "stream",
          "name": "stdout",
          "text": [
            "False\n",
            "True\n"
          ]
        }
      ]
    },
    {
      "cell_type": "markdown",
      "source": [
        "Conditional Statement"
      ],
      "metadata": {
        "id": "EedlVDU_IesN"
      }
    },
    {
      "cell_type": "code",
      "source": [
        "#1 if statement\n",
        "a=12\n",
        "b=100\n",
        "if b>a:\n",
        "  print(\"b is greater than a\")"
      ],
      "metadata": {
        "colab": {
          "base_uri": "https://localhost:8080/"
        },
        "id": "wHqbzw0qIe0N",
        "outputId": "ed230125-003f-4d5b-eabd-007866513eb8"
      },
      "execution_count": 59,
      "outputs": [
        {
          "output_type": "stream",
          "name": "stdout",
          "text": [
            "b is greater than a\n"
          ]
        }
      ]
    },
    {
      "cell_type": "markdown",
      "source": [
        "Elif Statements"
      ],
      "metadata": {
        "id": "DtLB-b6iMPCN"
      }
    },
    {
      "cell_type": "code",
      "source": [
        "a=12\n",
        "b=12\n",
        "if b>a:\n",
        "  print(\"b is greater than a\")\n",
        "elif a==b:\n",
        "  print(\"a is greater than a\")"
      ],
      "metadata": {
        "colab": {
          "base_uri": "https://localhost:8080/"
        },
        "id": "y_ghvuylMPKV",
        "outputId": "636097de-9dc8-49dd-b860-7cda60dd0bab"
      },
      "execution_count": 60,
      "outputs": [
        {
          "output_type": "stream",
          "name": "stdout",
          "text": [
            "a is greater than a\n"
          ]
        }
      ]
    },
    {
      "cell_type": "markdown",
      "source": [
        "Else Statements"
      ],
      "metadata": {
        "id": "3ebTf1KaNDEd"
      }
    },
    {
      "cell_type": "code",
      "source": [
        "a=200\n",
        "b=33\n",
        "if b>a:\n",
        "  print(\"b is greater than a\")\n",
        "elif a==b:\n",
        "  print(\"a and b are equal\")\n",
        "else:\n",
        "  print(\"a is greater than b\")"
      ],
      "metadata": {
        "colab": {
          "base_uri": "https://localhost:8080/"
        },
        "id": "YS2pGHIGNPJE",
        "outputId": "71f12795-f514-4999-e3a7-fabd8d31ba7e"
      },
      "execution_count": 61,
      "outputs": [
        {
          "output_type": "stream",
          "name": "stdout",
          "text": [
            "a is greater than b\n"
          ]
        }
      ]
    },
    {
      "cell_type": "markdown",
      "source": [
        "Short Hand If Statements"
      ],
      "metadata": {
        "id": "7ORzbuO8Njs1"
      }
    },
    {
      "cell_type": "code",
      "source": [
        "if a>b: print(\"a is greater than b\")"
      ],
      "metadata": {
        "colab": {
          "base_uri": "https://localhost:8080/"
        },
        "id": "GiV2PFVdNj2W",
        "outputId": "34665161-52ed-4b48-fc20-9c379ef3cc08"
      },
      "execution_count": 71,
      "outputs": [
        {
          "output_type": "stream",
          "name": "stdout",
          "text": [
            "a is greater than b\n"
          ]
        }
      ]
    },
    {
      "cell_type": "markdown",
      "source": [
        "Short Hand If .Else Statements"
      ],
      "metadata": {
        "id": "wryAUm05NwCV"
      }
    },
    {
      "cell_type": "code",
      "source": [
        "a=2\n",
        "b=330\n",
        "print(\"A\") if a>b else print(\"B\")"
      ],
      "metadata": {
        "colab": {
          "base_uri": "https://localhost:8080/"
        },
        "id": "aHk4fJhaNwQW",
        "outputId": "b0e76b2e-d14a-45d7-f44c-a9b323d4e05a"
      },
      "execution_count": 63,
      "outputs": [
        {
          "output_type": "stream",
          "name": "stdout",
          "text": [
            "B\n"
          ]
        }
      ]
    },
    {
      "cell_type": "markdown",
      "source": [
        "And-Both Conditions are True"
      ],
      "metadata": {
        "id": "OdqO3IgJOGcF"
      }
    },
    {
      "cell_type": "markdown",
      "source": [
        "Or-at least one of the Conditions is True"
      ],
      "metadata": {
        "id": "iyvsdWRTOmfv"
      }
    },
    {
      "cell_type": "code",
      "source": [
        "a=200\n",
        "b=33\n",
        "c=500\n",
        "if a>b and c>a:\n",
        "  print(\"Both conditions are true\")"
      ],
      "metadata": {
        "colab": {
          "base_uri": "https://localhost:8080/"
        },
        "id": "HtgMoGovOGj1",
        "outputId": "72169f55-7a78-4f1c-d562-4b547b2fbc4c"
      },
      "execution_count": 69,
      "outputs": [
        {
          "output_type": "stream",
          "name": "stdout",
          "text": [
            "Both conditions are true\n"
          ]
        }
      ]
    },
    {
      "cell_type": "code",
      "source": [
        "a=200\n",
        "b=33\n",
        "c=500\n",
        "if a>b or a>c:\n",
        "  print(\"At least one of the conditions is true\")"
      ],
      "metadata": {
        "colab": {
          "base_uri": "https://localhost:8080/"
        },
        "id": "uznUpu7AOmoN",
        "outputId": "7863842c-94d2-4d9b-f289-6da8322bed27"
      },
      "execution_count": 70,
      "outputs": [
        {
          "output_type": "stream",
          "name": "stdout",
          "text": [
            "At least one of the conditions is true\n"
          ]
        }
      ]
    },
    {
      "cell_type": "markdown",
      "source": [
        "Nested If"
      ],
      "metadata": {
        "id": "u2mCSzucPpll"
      }
    },
    {
      "cell_type": "code",
      "source": [
        "x=41\n",
        "\n",
        "if x>10:\n",
        "  print(\"Above ten\")\n",
        "  if x>20:\n",
        "    print(\"Above Twenty\")\n",
        "  else:\n",
        "    print(\"But not above Twenty\")"
      ],
      "metadata": {
        "colab": {
          "base_uri": "https://localhost:8080/"
        },
        "id": "M2EMtixaR2ou",
        "outputId": "fbd98b30-573f-47d4-af40-5cf620e3bbe0"
      },
      "execution_count": 81,
      "outputs": [
        {
          "output_type": "stream",
          "name": "stdout",
          "text": [
            "Above ten\n",
            "Above Twenty\n"
          ]
        }
      ]
    },
    {
      "cell_type": "markdown",
      "source": [
        "Nested If Else"
      ],
      "metadata": {
        "id": "kzPJHBxSR2eu"
      }
    },
    {
      "cell_type": "code",
      "source": [
        "x=29.99\n",
        "\n",
        "if x>10:\n",
        "  print(\"Above ten\")\n",
        "else:\n",
        "  print(\"Not above ten\")\n",
        "if x>20:\n",
        "  print(\"Above Twenty\")\n",
        "else:\n",
        "  print(\"But not above Twenty\")\n",
        "if x>30:\n",
        "  print(\"Above Thirty\")\n",
        "else :\n",
        "  print(\"But not above Thirty\")\n",
        "if x>40:\n",
        "  print(\"Above Forty\")\n",
        "else:\n",
        "  print(\"But not above Forty\")\n",
        "if x>50:\n",
        "  print(\"Above Fifty\")\n",
        "else:\n",
        "  print(\"Below Fifty\")"
      ],
      "metadata": {
        "colab": {
          "base_uri": "https://localhost:8080/"
        },
        "id": "1dLo5PjmPl8F",
        "outputId": "f99254ae-f5ca-46df-f426-b0c681ea22c4"
      },
      "execution_count": 96,
      "outputs": [
        {
          "output_type": "stream",
          "name": "stdout",
          "text": [
            "Above ten\n",
            "Above Twenty\n",
            "But not above Thirty\n",
            "But not above Forty\n",
            "Below Fifty\n"
          ]
        }
      ]
    },
    {
      "cell_type": "markdown",
      "source": [
        "Application Example #1"
      ],
      "metadata": {
        "id": "IrsLc1z4XCDP"
      }
    },
    {
      "cell_type": "code",
      "source": [
        "age=int(input(\"Enter your age:\"))\n",
        "if age>=18:\n",
        "  print(\"You are qualified to vote\")\n",
        "else:\n",
        "  print(\"You are not qualified to vote\")"
      ],
      "metadata": {
        "colab": {
          "base_uri": "https://localhost:8080/"
        },
        "id": "oGgz7_bKXCeW",
        "outputId": "13465519-be76-4226-9d0f-06514c30e2b5"
      },
      "execution_count": 99,
      "outputs": [
        {
          "output_type": "stream",
          "name": "stdout",
          "text": [
            "Enter your age:100\n",
            "You are qualified to vote\n"
          ]
        }
      ]
    },
    {
      "cell_type": "markdown",
      "source": [
        "Application Example #2"
      ],
      "metadata": {
        "id": "r_AP_Kw2YGgv"
      }
    },
    {
      "cell_type": "code",
      "source": [
        "number=float(input(\"Enter a number:\"))\n",
        "if number>0:\n",
        "  print(\"Positive\")\n",
        "elif number<0:\n",
        "  print(\"Negative\")\n",
        "else:\n",
        "  print(\"Zero\")"
      ],
      "metadata": {
        "colab": {
          "base_uri": "https://localhost:8080/"
        },
        "id": "xJ-qW2PpYHaP",
        "outputId": "63174699-be84-44f4-b54c-480564b0fb86"
      },
      "execution_count": 100,
      "outputs": [
        {
          "output_type": "stream",
          "name": "stdout",
          "text": [
            "Enter a number:-99\n",
            "Negative\n"
          ]
        }
      ]
    },
    {
      "cell_type": "markdown",
      "source": [
        "Application Example #3"
      ],
      "metadata": {
        "id": "Xez5QxvkY4G3"
      }
    },
    {
      "cell_type": "code",
      "source": [
        "\n",
        "\n",
        "grade=float(input(\"Enter a number:\"))\n",
        "if grade>=75:\n",
        "  print(\"Passed\")\n",
        "elif grade>=74:\n",
        "  print(\"Remedial\")\n",
        "else:\n",
        "  print(\"Failed\")"
      ],
      "metadata": {
        "colab": {
          "base_uri": "https://localhost:8080/"
        },
        "id": "IfrR0WHVY4WX",
        "outputId": "e9c367e1-fed6-435d-f6d9-8dd5a0756183"
      },
      "execution_count": 118,
      "outputs": [
        {
          "output_type": "stream",
          "name": "stdout",
          "text": [
            "Enter a number:74.99\n",
            "Remedial\n"
          ]
        }
      ]
    }
  ]
}