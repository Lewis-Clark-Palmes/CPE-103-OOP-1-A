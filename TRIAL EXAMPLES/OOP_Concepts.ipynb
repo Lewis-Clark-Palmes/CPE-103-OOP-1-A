{
  "nbformat": 4,
  "nbformat_minor": 0,
  "metadata": {
    "colab": {
      "provenance": [],
      "authorship_tag": "ABX9TyP63rwr8XNP217bUEppP2VN",
      "include_colab_link": true
    },
    "kernelspec": {
      "name": "python3",
      "display_name": "Python 3"
    },
    "language_info": {
      "name": "python"
    }
  },
  "cells": [
    {
      "cell_type": "markdown",
      "metadata": {
        "id": "view-in-github",
        "colab_type": "text"
      },
      "source": [
        "<a href=\"https://colab.research.google.com/github/Lewis-Clark-Palmes/CPE-103-OOP-1-A/blob/main/OOP_Concepts.ipynb\" target=\"_parent\"><img src=\"https://colab.research.google.com/assets/colab-badge.svg\" alt=\"Open In Colab\"/></a>"
      ]
    },
    {
      "cell_type": "markdown",
      "source": [
        "Class Constructor"
      ],
      "metadata": {
        "id": "Rx0r0uNk7vGz"
      }
    },
    {
      "cell_type": "code",
      "execution_count": 1,
      "metadata": {
        "id": "U4bl9jRs6YlS"
      },
      "outputs": [],
      "source": [
        "class Car:\n",
        "  pass"
      ]
    },
    {
      "cell_type": "markdown",
      "source": [],
      "metadata": {
        "id": "q7N2dwB08UwZ"
      }
    },
    {
      "cell_type": "code",
      "source": [
        "class Car:\n",
        "  def __init__(self,name,color):\n",
        "    self.name=name\n",
        "    self.color=color"
      ],
      "metadata": {
        "id": "sjlmSRqi8U_p"
      },
      "execution_count": 3,
      "outputs": []
    },
    {
      "cell_type": "markdown",
      "source": [
        "METHODS"
      ],
      "metadata": {
        "id": "dT-er-tr9la5"
      }
    },
    {
      "cell_type": "code",
      "source": [
        "class Car:\n",
        "  car_type=\"Sedan\"\n",
        "  def __init__(self,name,mileage):\n",
        "    self.name=name\n",
        "    self.mileage=mileage\n",
        "\n",
        "  def description(self):\n",
        "   return \"The {self.name} car gives the mileage of {self.mileage}km/l\"\n",
        "\n",
        "  def max_speed(self,speed):\n",
        "    return f\"The {self.name} runs at the maximum speed of {speed}km/hr\""
      ],
      "metadata": {
        "id": "nSlbgo4q9jr7"
      },
      "execution_count": 8,
      "outputs": []
    },
    {
      "cell_type": "markdown",
      "source": [
        "Multiple Objects with thw same Class"
      ],
      "metadata": {
        "id": "cLJInRwO_Ir7"
      }
    },
    {
      "cell_type": "code",
      "source": [
        "class Car: #parent class\n",
        "  def __init__(self,name,mileage):\n",
        "    self.name=name\n",
        "    self.mileage=mileage\n",
        "\n",
        "  def description(self):\n",
        "   return f\"The {self.name} car gives the mileage of {self.mileage}km/l\"\n",
        "\n",
        "class BMW(Car): #child class\n",
        "  pass\n",
        "\n",
        "class Audi(Car): #child class\n",
        "  def Audi_desc(self):\n",
        "      return f\"This is the description method of class Audi\"\n",
        "\n",
        "bmw= BMW(\"BMW 7-series\",39.53)\n",
        "print(bmw.description())\n",
        "\n",
        "audi= Audi(\"Audi A8 L\",14)\n",
        "print(audi.description())\n",
        "\n"
      ],
      "metadata": {
        "colab": {
          "base_uri": "https://localhost:8080/"
        },
        "id": "SFUQu1sGAx9S",
        "outputId": "0db67d64-feee-4dc4-f107-e493e0fa1ac7"
      },
      "execution_count": 27,
      "outputs": [
        {
          "output_type": "stream",
          "name": "stdout",
          "text": [
            "The BMW 7-series car gives the mileage of 39.53km/l\n",
            "The Audi A8 L car gives the mileage of 14km/l\n"
          ]
        }
      ]
    },
    {
      "cell_type": "markdown",
      "source": [
        "Apply the OOP concept like class constructor, method, inheritance to describe the sides of shapes"
      ],
      "metadata": {
        "id": "ienJEoInAgzT"
      }
    },
    {
      "cell_type": "code",
      "source": [
        "class Shapes:\n",
        "  def __init__(self,name,sides):\n",
        "    self.name=name\n",
        "    self.sides=sides\n",
        "\n",
        "  def description(self):\n",
        "   return f\"{self.name} has {self.sides} sides\"\n",
        "\n",
        "class Circle(Shapes):\n",
        "  pass\n",
        "\n",
        "class Decagon(Shapes):\n",
        "  def Decagon_desc(self):\n",
        "    pass\n",
        "\n",
        "class Hexagon(Shapes):\n",
        "  def Hexagon_desc(self):\n",
        "    pass\n",
        "\n",
        "circle= Circle(\"Circle\",0)\n",
        "print(circle.description())\n",
        "\n",
        "decagon= Decagon(\"Decagon\",10)\n",
        "print(decagon.description())\n",
        "\n",
        "hexagon= Hexagon(\"Hexagon\",6)\n",
        "print(hexagon.description())\n"
      ],
      "metadata": {
        "colab": {
          "base_uri": "https://localhost:8080/"
        },
        "id": "62A1o5cOAhAa",
        "outputId": "290e51f8-0993-409d-8cb2-03762fcde59d"
      },
      "execution_count": 52,
      "outputs": [
        {
          "output_type": "stream",
          "name": "stdout",
          "text": [
            "Circle has 0 sides\n",
            "Decagon has 10 sides\n",
            "Hexagon has 6 sides\n"
          ]
        }
      ]
    }
  ]
}