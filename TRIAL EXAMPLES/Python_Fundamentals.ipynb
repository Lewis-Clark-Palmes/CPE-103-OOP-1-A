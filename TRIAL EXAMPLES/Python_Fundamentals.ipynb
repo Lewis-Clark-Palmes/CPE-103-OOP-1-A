{
  "nbformat": 4,
  "nbformat_minor": 0,
  "metadata": {
    "colab": {
      "provenance": [],
      "authorship_tag": "ABX9TyOMch6sBuEIAs7y1KnjeOy6",
      "include_colab_link": true
    },
    "kernelspec": {
      "name": "python3",
      "display_name": "Python 3"
    },
    "language_info": {
      "name": "python"
    }
  },
  "cells": [
    {
      "cell_type": "markdown",
      "metadata": {
        "id": "view-in-github",
        "colab_type": "text"
      },
      "source": [
        "<a href=\"https://colab.research.google.com/github/Lewis-Clark-Palmes/CPE-103-OOP-1-A/blob/main/Python_Fundamentals.ipynb\" target=\"_parent\"><img src=\"https://colab.research.google.com/assets/colab-badge.svg\" alt=\"Open In Colab\"/></a>"
      ]
    },
    {
      "cell_type": "markdown",
      "source": [
        "PYTHON INDENTATION"
      ],
      "metadata": {
        "id": "eFjTW8WqFgsL"
      }
    },
    {
      "cell_type": "code",
      "source": [
        "if 5 > 2:\n",
        "  print(\"Five is greater than two!\")"
      ],
      "metadata": {
        "colab": {
          "base_uri": "https://localhost:8080/"
        },
        "id": "_OVcVMUJFpCi",
        "outputId": "f06dd26c-424c-48c1-c5cd-dde01a22de78"
      },
      "execution_count": null,
      "outputs": [
        {
          "output_type": "stream",
          "name": "stdout",
          "text": [
            "Five is greater than two!\n"
          ]
        }
      ]
    },
    {
      "cell_type": "markdown",
      "source": [
        "PYTHON COMMENTS\n",
        "\n"
      ],
      "metadata": {
        "id": "0qlL_FduHXxE"
      }
    },
    {
      "cell_type": "code",
      "source": [
        "#This is a comment\n",
        "print(\"Hello, World!\")"
      ],
      "metadata": {
        "colab": {
          "base_uri": "https://localhost:8080/"
        },
        "id": "NQxQ3gIOGYn8",
        "outputId": "0a6a363f-7a06-40ea-eb7c-176b4d69ec6e"
      },
      "execution_count": null,
      "outputs": [
        {
          "output_type": "stream",
          "name": "stdout",
          "text": [
            "Hello, World!\n"
          ]
        }
      ]
    },
    {
      "cell_type": "markdown",
      "source": [
        "PYTHON VARIABLE"
      ],
      "metadata": {
        "id": "wa20C4Y8KTbt"
      }
    },
    {
      "cell_type": "code",
      "source": [
        "z=1\n",
        "a,b=0,-1\n",
        "print (a)\n",
        "print (b)\n",
        "print (z)\n",
        "c= \"Sally\" #This is a type of string\n",
        "print (c)\n",
        "#This is a type of string\n"
      ],
      "metadata": {
        "id": "AcRB9CnDKWJE",
        "colab": {
          "base_uri": "https://localhost:8080/"
        },
        "outputId": "ae1a2a96-256b-4ede-cf4e-2e82b14c4eb5"
      },
      "execution_count": 11,
      "outputs": [
        {
          "output_type": "stream",
          "name": "stdout",
          "text": [
            "0\n",
            "-1\n",
            "1\n",
            "Sally\n"
          ]
        }
      ]
    },
    {
      "cell_type": "markdown",
      "source": [
        "CASTING\n"
      ],
      "metadata": {
        "id": "jFT8lzl7NMfu"
      }
    },
    {
      "cell_type": "code",
      "source": [
        "b= \"Sally\" #This is a type of string\n",
        "b = int (4)\n",
        "b = float (4)\n",
        "print (b)"
      ],
      "metadata": {
        "colab": {
          "base_uri": "https://localhost:8080/"
        },
        "id": "HRWI4O-tNY9X",
        "outputId": "e487d292-d7d2-4f4c-c8c6-3a81dc86f8f9"
      },
      "execution_count": 14,
      "outputs": [
        {
          "output_type": "stream",
          "name": "stdout",
          "text": [
            "4.0\n"
          ]
        }
      ]
    },
    {
      "cell_type": "markdown",
      "source": [
        "TYPE () FUNCTION"
      ],
      "metadata": {
        "id": "YwvaUPmVNxQ3"
      }
    },
    {
      "cell_type": "code",
      "source": [
        "x = 5\n",
        "y = \"John\"\n",
        "print (type(x))\n",
        "print (type(y))"
      ],
      "metadata": {
        "colab": {
          "base_uri": "https://localhost:8080/"
        },
        "id": "4eaPNtAvN10W",
        "outputId": "357994b6-ee26-4a3d-f636-dac3ca3d3ef8"
      },
      "execution_count": 13,
      "outputs": [
        {
          "output_type": "stream",
          "name": "stdout",
          "text": [
            "<class 'int'>\n",
            "<class 'str'>\n"
          ]
        }
      ]
    },
    {
      "cell_type": "markdown",
      "source": [
        "DOUBLE OR SINGLE QUOTE"
      ],
      "metadata": {
        "id": "CCqFJRZTONmA"
      }
    },
    {
      "cell_type": "code",
      "source": [
        "y = \"John\"\n",
        "x = 'John'\n",
        "print (y)\n",
        "print (x)"
      ],
      "metadata": {
        "colab": {
          "base_uri": "https://localhost:8080/"
        },
        "id": "PE-7WMyOOYgf",
        "outputId": "83bbbeb3-f036-4fbb-eaa6-12298955b326"
      },
      "execution_count": 16,
      "outputs": [
        {
          "output_type": "stream",
          "name": "stdout",
          "text": [
            "John\n",
            "John\n"
          ]
        }
      ]
    },
    {
      "cell_type": "markdown",
      "source": [
        "CASE SENSITIVE"
      ],
      "metadata": {
        "id": "MwimvbIyOvC3"
      }
    },
    {
      "cell_type": "code",
      "source": [
        "a = 4\n",
        "A = \"Sally\"\n",
        "print (a)\n",
        "print (A)\n",
        "# A will n ot overwrite a"
      ],
      "metadata": {
        "colab": {
          "base_uri": "https://localhost:8080/"
        },
        "id": "QuZPRRotOzJn",
        "outputId": "82b00b35-e7e4-4abb-a447-0648f630ef56"
      },
      "execution_count": 18,
      "outputs": [
        {
          "output_type": "stream",
          "name": "stdout",
          "text": [
            "4\n",
            "Sally\n"
          ]
        }
      ]
    },
    {
      "cell_type": "markdown",
      "source": [
        "MULTIPLE VARIABLES"
      ],
      "metadata": {
        "id": "WYdRRkCTPD9n"
      }
    },
    {
      "cell_type": "code",
      "source": [
        "x , y , z = \"One\",\"Two\",\"Three\"\n",
        "print (x)\n",
        "print (y)\n",
        "print (z)"
      ],
      "metadata": {
        "colab": {
          "base_uri": "https://localhost:8080/"
        },
        "id": "THAqyfnhRdf4",
        "outputId": "40a48688-5a4e-4f91-af06-58ddf8d2e3cf"
      },
      "execution_count": 28,
      "outputs": [
        {
          "output_type": "stream",
          "name": "stdout",
          "text": [
            "One\n",
            "Two\n",
            "Three\n"
          ]
        }
      ]
    },
    {
      "cell_type": "markdown",
      "source": [
        "ONE VALUE TO MULTIPLE VARIABLE"
      ],
      "metadata": {
        "id": "SXVBGhGCPyC4"
      }
    },
    {
      "cell_type": "code",
      "source": [
        "x = y = z = \"four\"\n",
        "print (x)\n",
        "print (y)\n",
        "print (z)"
      ],
      "metadata": {
        "colab": {
          "base_uri": "https://localhost:8080/"
        },
        "id": "mJZre2kmPF63",
        "outputId": "7ce249fc-7030-469c-88b6-2538da36a97f"
      },
      "execution_count": 21,
      "outputs": [
        {
          "output_type": "stream",
          "name": "stdout",
          "text": [
            "four\n",
            "four\n",
            "four\n"
          ]
        }
      ]
    },
    {
      "cell_type": "markdown",
      "source": [
        "OUTPUT VARIABLE"
      ],
      "metadata": {
        "id": "XGP85OBERQk5"
      }
    },
    {
      "cell_type": "code",
      "source": [
        "x = \"enjoying\"\n",
        "print (\"Python programming is \" + x)"
      ],
      "metadata": {
        "colab": {
          "base_uri": "https://localhost:8080/"
        },
        "id": "PdE0aDTXP27m",
        "outputId": "ad01bce6-877b-4ad2-98d6-aade9fb2caeb"
      },
      "execution_count": 23,
      "outputs": [
        {
          "output_type": "stream",
          "name": "stdout",
          "text": [
            "Python programming is enjoying\n"
          ]
        }
      ]
    },
    {
      "cell_type": "markdown",
      "source": [
        "ARITHMETIC OPERATIONS"
      ],
      "metadata": {
        "id": "FY8_AFwTQJBu"
      }
    },
    {
      "cell_type": "code",
      "source": [
        "x = 10\n",
        "y = 3\n",
        "#Exponentiation\n",
        "x**y\n",
        "#Division\n",
        "x/y\n",
        "#Floor Division\n",
        "x//y\n",
        "#Modulo\n",
        "x%y\n"
      ],
      "metadata": {
        "colab": {
          "base_uri": "https://localhost:8080/"
        },
        "id": "FCsgDBxuQJgn",
        "outputId": "7001d411-5295-452b-c636-4c1bb131c3fe"
      },
      "execution_count": 29,
      "outputs": [
        {
          "output_type": "execute_result",
          "data": {
            "text/plain": [
              "1"
            ]
          },
          "metadata": {},
          "execution_count": 29
        }
      ]
    },
    {
      "cell_type": "markdown",
      "source": [
        "ASSIGNEMENT OPERATOR"
      ],
      "metadata": {
        "id": "OumHJW0BSbNh"
      }
    },
    {
      "cell_type": "code",
      "source": [
        "x = 3\n",
        "x*=3 # x = x*3\n",
        "print (x)\n"
      ],
      "metadata": {
        "colab": {
          "base_uri": "https://localhost:8080/"
        },
        "id": "1HgZp27XSedQ",
        "outputId": "a69c0ad9-9145-4b1d-a350-0a6c7ce15815"
      },
      "execution_count": 30,
      "outputs": [
        {
          "output_type": "stream",
          "name": "stdout",
          "text": [
            "9\n"
          ]
        }
      ]
    },
    {
      "cell_type": "markdown",
      "source": [
        "COMPARISON OPERATOR"
      ],
      "metadata": {
        "id": "xXxg8Gt5SwQf"
      }
    },
    {
      "cell_type": "code",
      "source": [
        "x = 5\n",
        "y = 2\n",
        "x>>y"
      ],
      "metadata": {
        "colab": {
          "base_uri": "https://localhost:8080/"
        },
        "id": "DbhbKb7MSyqP",
        "outputId": "75594a14-e8e2-4589-a856-0e95197e6661"
      },
      "execution_count": 31,
      "outputs": [
        {
          "output_type": "execute_result",
          "data": {
            "text/plain": [
              "1"
            ]
          },
          "metadata": {},
          "execution_count": 31
        }
      ]
    },
    {
      "cell_type": "markdown",
      "source": [
        "LOGICAL OPERATOR"
      ],
      "metadata": {
        "id": "cW9iMBEETOqA"
      }
    },
    {
      "cell_type": "code",
      "source": [
        "x = 5\n",
        "y = 2\n",
        "not x>y"
      ],
      "metadata": {
        "colab": {
          "base_uri": "https://localhost:8080/"
        },
        "id": "Aw7xuRgjTQ4f",
        "outputId": "a4feabac-e244-488c-be84-0780a22d1a41"
      },
      "execution_count": 38,
      "outputs": [
        {
          "output_type": "execute_result",
          "data": {
            "text/plain": [
              "False"
            ]
          },
          "metadata": {},
          "execution_count": 38
        }
      ]
    },
    {
      "cell_type": "markdown",
      "source": [
        "BITWISE OPERATOR"
      ],
      "metadata": {
        "id": "keQ_gzfrTw5w"
      }
    },
    {
      "cell_type": "code",
      "source": [
        "#Decimal to binary\n",
        "#10 = 1010\n",
        "\n",
        "x = 10\n",
        "x>>1\n",
        "#print (x)"
      ],
      "metadata": {
        "colab": {
          "base_uri": "https://localhost:8080/"
        },
        "id": "uaF3CMa0T1ln",
        "outputId": "7bcc9142-3b21-4429-f29f-76deadfb4333"
      },
      "execution_count": 53,
      "outputs": [
        {
          "output_type": "execute_result",
          "data": {
            "text/plain": [
              "5"
            ]
          },
          "metadata": {},
          "execution_count": 53
        }
      ]
    },
    {
      "cell_type": "markdown",
      "source": [
        "APPLICATION 1"
      ],
      "metadata": {
        "id": "jw662IveYXIp"
      }
    },
    {
      "cell_type": "code",
      "source": [
        "#APPLICATION 1\n",
        "\n",
        "\n",
        "#AREA OF A SQUARE\n",
        "x = 3\n",
        "area = x**2\n",
        "print (\"The area of the square is \" , area, \"cm^2\")\n",
        "\n",
        "#AREA OF A CIRCLE\n",
        "r = 2\n",
        "pi = 3.14\n",
        "area = pi*r**2\n",
        "print (\"The area of the circle is \" , area, \"cm^2\")\n",
        "\n",
        "#AREA OF A TRIANGLE\n",
        "b = 2\n",
        "h = 3\n",
        "area = (b*h)/2\n",
        "print (\"The area of the triangle is \" , area, \"cm^2\")\n"
      ],
      "metadata": {
        "colab": {
          "base_uri": "https://localhost:8080/"
        },
        "id": "BkizZpw2YIhx",
        "outputId": "1088afb4-3202-477b-d62e-56590e13825e"
      },
      "execution_count": 84,
      "outputs": [
        {
          "output_type": "stream",
          "name": "stdout",
          "text": [
            "The area of the square is  9 cm^2\n",
            "The area of the circle is  12.56 cm^2\n",
            "The area of the triangle is  3.0 cm^2\n"
          ]
        }
      ]
    },
    {
      "cell_type": "code",
      "source": [],
      "metadata": {
        "id": "HhQjNPr4cXi6"
      },
      "execution_count": null,
      "outputs": []
    }
  ]
}