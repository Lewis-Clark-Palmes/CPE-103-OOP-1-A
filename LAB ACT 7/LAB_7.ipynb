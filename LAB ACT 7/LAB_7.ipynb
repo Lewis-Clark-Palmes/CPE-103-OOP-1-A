{
  "nbformat": 4,
  "nbformat_minor": 0,
  "metadata": {
    "colab": {
      "provenance": [],
      "authorship_tag": "ABX9TyO6FFNEfkriFsYO20E7iF46",
      "include_colab_link": true
    },
    "kernelspec": {
      "name": "python3",
      "display_name": "Python 3"
    },
    "language_info": {
      "name": "python"
    }
  },
  "cells": [
    {
      "cell_type": "markdown",
      "metadata": {
        "id": "view-in-github",
        "colab_type": "text"
      },
      "source": [
        "<a href=\"https://colab.research.google.com/github/Lewis-Clark-Palmes/CPE-103-OOP-1-A/blob/main/LAB_7.ipynb\" target=\"_parent\"><img src=\"https://colab.research.google.com/assets/colab-badge.svg\" alt=\"Open In Colab\"/></a>"
      ]
    },
    {
      "cell_type": "markdown",
      "source": [
        "**LAB ACT 7**"
      ],
      "metadata": {
        "id": "WVLyv96rHCrJ"
      }
    },
    {
      "cell_type": "code",
      "execution_count": null,
      "metadata": {
        "colab": {
          "base_uri": "https://localhost:8080/"
        },
        "id": "JJVLo0zO0bvS",
        "outputId": "97be2a9d-b34e-42a8-cc72-8653d13345b9"
      },
      "outputs": [
        {
          "output_type": "stream",
          "name": "stdout",
          "text": [
            "Enter feet and inches of distance1: 12 21\n",
            "Enter feet and inches of distance2: 20 25\n",
            "Distance2 is greater or equal to Distance1\n",
            "Sum of the two distances:\n",
            "Feet = 33, Inches = 34\n"
          ]
        }
      ],
      "source": [
        "class Distance:\n",
        "    def __init__(self, feet, inches):\n",
        "        self.feet = feet\n",
        "        self.inches = inches\n",
        "\n",
        "    def __gt__(self, other):\n",
        "        if self.feet > other.feet:\n",
        "            return True\n",
        "        elif self.feet == other.feet and self.inches > other.inches:\n",
        "            return True\n",
        "        else:\n",
        "            return False\n",
        "\n",
        "    def __add__(self, other):\n",
        "        inches = self.inches + other.inches\n",
        "        feet = self.feet + other.feet\n",
        "        if inches >= 12:\n",
        "            inches -= 12\n",
        "            feet += 1\n",
        "        return Distance(feet, inches)\n",
        "\n",
        "    def show(self):\n",
        "        print(f\"Feet = {self.feet}, Inches = {self.inches}\")\n",
        "\n",
        "a, b = map(int, input(\"Enter feet and inches of distance1: \").split())\n",
        "c, d = map(int, input(\"Enter feet and inches of distance2: \").split())\n",
        "\n",
        "d1 = Distance(a, b)\n",
        "d2 = Distance(c, d)\n",
        "\n",
        "if d1 > d2:\n",
        "    print(\"Distance1 is greater than Distance2\")\n",
        "else:\n",
        "    print(\"Distance2 is greater or equal to Distance1\")\n",
        "\n",
        "d3 = d1 + d2\n",
        "print(\"Sum of the two distances:\")\n",
        "d3.show()\n"
      ]
    },
    {
      "cell_type": "code",
      "source": [
        "class RegularPolygon:\n",
        "  def __init__ (self, side):\n",
        "    self._side = side\n",
        "class Square (RegularPolygon):\n",
        "  def area (self):\n",
        "    return self._side * self._side\n",
        "class EquilateralTriangle (RegularPolygon):\n",
        "  def area (self):\n",
        "    return self._side * self._side * 0.433\n",
        "\n",
        "obj1  = Square (4)\n",
        "obj2 = EquilateralTriangle (3)\n",
        "\n",
        "print (obj1.area())\n",
        "print (obj2.area())"
      ],
      "metadata": {
        "colab": {
          "base_uri": "https://localhost:8080/"
        },
        "id": "RhEXqpt43zYB",
        "outputId": "637ee031-72c6-4878-8848-3b0e820adb8f"
      },
      "execution_count": null,
      "outputs": [
        {
          "output_type": "stream",
          "name": "stdout",
          "text": [
            "16\n",
            "3.897\n"
          ]
        }
      ]
    },
    {
      "cell_type": "markdown",
      "source": [
        "**SUPPLEMENTARY ACTIVITY**"
      ],
      "metadata": {
        "id": "V_-v_tnkG6oV"
      }
    },
    {
      "cell_type": "code",
      "source": [
        "import math\n",
        "\n",
        "class RegularPolygon:\n",
        "  def __init__(self, side):\n",
        "    self._side = side\n",
        "\n",
        "class Square(RegularPolygon):\n",
        "  def area(self):\n",
        "    return self._side * self._side\n",
        "\n",
        "class EquilateralTriangle(RegularPolygon):\n",
        "  def area(self):\n",
        "    return self._side * self._side * 0.433\n",
        "\n",
        "class Pentagon(RegularPolygon):\n",
        "  def area(self):\n",
        "    return (1/4) * math.sqrt(5 * (5 + 2 * math.sqrt(5))) * self._side**2\n",
        "\n",
        "class Hexagon(RegularPolygon):\n",
        "  def area(self):\n",
        "    return ((3 * math.sqrt(3)) / 2) * self._side**2\n",
        "\n",
        "class Parallelogram(RegularPolygon):\n",
        "  def __init__(self, side, base, height):\n",
        "    super().__init__(side)\n",
        "    self._base = base\n",
        "    self._height = height\n",
        "  def area(self):\n",
        "    return self._base * self._height\n",
        "\n",
        "obj1 = Square(4)\n",
        "obj2 = EquilateralTriangle(3)\n",
        "obj3 = Pentagon(6)\n",
        "obj4 = Hexagon(6)\n",
        "obj5 = Parallelogram(0, 8, 5)\n",
        "\n",
        "print(\"Area of Square:\", obj1.area())\n",
        "print(\"Area of Equilateral Triangle:\", obj2.area())\n",
        "print(\"Area of Pentagon:\", obj3.area())\n",
        "print(\"Area of Hexagon:\", obj4.area())\n",
        "print(\"Area of Parallelogram:\", obj5.area())\n"
      ],
      "metadata": {
        "id": "TZ2PAcmX4M4F",
        "colab": {
          "base_uri": "https://localhost:8080/"
        },
        "outputId": "96ee1357-23ca-44d1-bfad-17e29b471c99"
      },
      "execution_count": 3,
      "outputs": [
        {
          "output_type": "stream",
          "name": "stdout",
          "text": [
            "Area of Square: 16\n",
            "Area of Equilateral Triangle: 3.897\n",
            "Area of Pentagon: 61.93718642120281\n",
            "Area of Hexagon: 93.53074360871938\n",
            "Area of Parallelogram: 40\n"
          ]
        }
      ]
    }
  ]
}