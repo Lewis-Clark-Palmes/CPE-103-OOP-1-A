{
  "nbformat": 4,
  "nbformat_minor": 0,
  "metadata": {
    "colab": {
      "provenance": [],
      "authorship_tag": "ABX9TyNLost8XapAc3paeUFru6Xv",
      "include_colab_link": true
    },
    "kernelspec": {
      "name": "python3",
      "display_name": "Python 3"
    },
    "language_info": {
      "name": "python"
    }
  },
  "cells": [
    {
      "cell_type": "markdown",
      "metadata": {
        "id": "view-in-github",
        "colab_type": "text"
      },
      "source": [
        "<a href=\"https://colab.research.google.com/github/Lewis-Clark-Palmes/CPE-103-OOP-1-A/blob/main/LAB_5.ipynb\" target=\"_parent\"><img src=\"https://colab.research.google.com/assets/colab-badge.svg\" alt=\"Open In Colab\"/></a>"
      ]
    },
    {
      "cell_type": "markdown",
      "source": [
        "Built in Functions"
      ],
      "metadata": {
        "id": "_DqIudjhs7XI"
      }
    },
    {
      "cell_type": "code",
      "source": [
        "# Propositional logic evaluator for discrete math for 2-3 variables\n",
        "\n",
        "print(\"Propositional logic evaluator for discrete math\")\n",
        "variables = int(input(\"How many variables? \"))\n",
        "total_combinations = 2**variables\n",
        "\n",
        "combinations_list = [] # store all the possible combinations\n",
        "\n",
        "# generate the combinations\n",
        "for i in range(total_combinations):\n",
        "    bin_equivalent = bin(i)[2:]\n",
        "    while len(bin_equivalent) < variables:\n",
        "        bin_equivalent = \"0\" + bin_equivalent\n",
        "    combinations_list.append(tuple(int(val) for val in bin_equivalent))\n",
        "\n",
        "# this will generate a List with values [(0,0), (0,1), (1,0), (1,1)] for two variables\n",
        "# main program\n",
        "expression = input(\"Enter the propositional logic expression: \")\n",
        "# note: Only the Letters A, B, and C are allowed to be used\n",
        "# example: not(A and B) or (A and C)\n",
        "if variables == 2:\n",
        "    print(\"A B f\")\n",
        "    for A, B in combinations_list:\n",
        "        evaluated_expression = eval(expression)\n",
        "        print(A, B, evaluated_expression)\n",
        "elif variables == 3:\n",
        "    print(\"A B C f\")\n",
        "    for A, B, C in combinations_list:\n",
        "        evaluated_expression = eval(expression)\n",
        "        print(A, B, C, evaluated_expression)\n"
      ],
      "metadata": {
        "colab": {
          "base_uri": "https://localhost:8080/"
        },
        "id": "bV5qdDRwsCTh",
        "outputId": "45bbcec4-578e-456d-b142-f8fec2a9732a"
      },
      "execution_count": null,
      "outputs": [
        {
          "output_type": "stream",
          "name": "stdout",
          "text": [
            "Propositional logic evaluator for discrete math\n",
            "How many variables? 3\n",
            "Enter the propositional logic expression: 1,2,3\n",
            "A B C f\n",
            "0 0 0 (1, 2, 3)\n",
            "0 0 1 (1, 2, 3)\n",
            "0 1 0 (1, 2, 3)\n",
            "0 1 1 (1, 2, 3)\n",
            "1 0 0 (1, 2, 3)\n",
            "1 0 1 (1, 2, 3)\n",
            "1 1 0 (1, 2, 3)\n",
            "1 1 1 (1, 2, 3)\n"
          ]
        }
      ]
    },
    {
      "cell_type": "markdown",
      "source": [
        "File Handling"
      ],
      "metadata": {
        "id": "tUpre0cDtBcx"
      }
    },
    {
      "cell_type": "code",
      "source": [
        "name = \"Royce Chua\"\n",
        "\n",
        "file = open(\"newfile1.txt\", 'w')\n",
        "\n",
        "file.write(f\"Hello, {name}!\\n\")\n",
        "file.write(\"Isn't this amazing!\\n\")\n",
        "file.write(\"that we can create and write on text files\\n\")\n",
        "file.write(\"using Python.\")\n",
        "\n",
        "file.close()\n"
      ],
      "metadata": {
        "id": "zPaQgYyvtHu6"
      },
      "execution_count": null,
      "outputs": []
    },
    {
      "cell_type": "code",
      "source": [
        "name = \"Royce Chua\"\n",
        "\n",
        "file = open(\"newfile2.txt\", 'w')\n",
        "\n",
        "file.write(\"This message was created using Python!\\n\")\n",
        "\n",
        "file.close()\n"
      ],
      "metadata": {
        "id": "kTJ-4AWt2SEb"
      },
      "execution_count": null,
      "outputs": []
    },
    {
      "cell_type": "code",
      "source": [
        "file = open(\"newfile2.txt\",'r')\n",
        "\n",
        "data = file.read()\n",
        "\n",
        "print(data)\n",
        "\n",
        "file.close()\n"
      ],
      "metadata": {
        "colab": {
          "base_uri": "https://localhost:8080/"
        },
        "id": "lPKoFBPJ2ZZs",
        "outputId": "8ee7f6b8-6f0f-42eb-86d9-55a48eeb1d72"
      },
      "execution_count": null,
      "outputs": [
        {
          "output_type": "stream",
          "name": "stdout",
          "text": [
            "This message was created using Python!\n",
            "\n"
          ]
        }
      ]
    },
    {
      "cell_type": "code",
      "source": [
        "file = open(\"newfile1.txt\", 'r')\n",
        "\n",
        "data = file.read()\n",
        "\n",
        "print(data)\n",
        "\n",
        "file.close()\n"
      ],
      "metadata": {
        "colab": {
          "base_uri": "https://localhost:8080/"
        },
        "id": "1_DZa92w2vm8",
        "outputId": "2c08fa4c-941b-4bd4-8fe6-9dce2ad94cf8"
      },
      "execution_count": null,
      "outputs": [
        {
          "output_type": "stream",
          "name": "stdout",
          "text": [
            "Hello, Royce Chua!\n",
            "Isn't this amazing!\n",
            "that we can create and write on text files\n",
            "using Python.\n"
          ]
        }
      ]
    },
    {
      "cell_type": "markdown",
      "source": [
        "User-defined Functions"
      ],
      "metadata": {
        "id": "OyWK6rJ23LCV"
      }
    },
    {
      "cell_type": "code",
      "source": [
        "def generate_truthtable(number_of_variables):\n",
        "      total_combinations = 2**number_of_variables\n",
        "      combinations_list = []\n",
        "\n",
        "      for i in range(total_combinations):\n",
        "        bin_equivalent = bin(i)[2:]\n",
        "        while len(bin_equivalent) < number_of_variables:\n",
        "            bin_equivalent = \"0\" + bin_equivalent\n",
        "        combinations_list.append(tuple(int(val) for val in bin_equivalent))\n",
        "\n",
        "      return combinations_list\n",
        "\n",
        "print(generate_truthtable(3))\n"
      ],
      "metadata": {
        "colab": {
          "base_uri": "https://localhost:8080/"
        },
        "id": "DHOlJ9Rn3MO1",
        "outputId": "b509cd0a-3ad4-4109-89d4-5fe1174bcb77"
      },
      "execution_count": null,
      "outputs": [
        {
          "output_type": "stream",
          "name": "stdout",
          "text": [
            "[(0, 0, 0), (0, 0, 1), (0, 1, 0), (0, 1, 1), (1, 0, 0), (1, 0, 1), (1, 1, 0), (1, 1, 1)]\n"
          ]
        }
      ]
    },
    {
      "cell_type": "code",
      "source": [
        "def generate_truthtable(number_of_variables=3):\n",
        "  if number_of_variables == 0:\n",
        "    return \"You need to enter an integer\"\n",
        "  else:\n",
        "    total_combinations = 2**number_of_variables\n",
        "    combinations_list = []\n",
        "\n",
        "    for i in range(total_combinations):\n",
        "        bin_equivalent = bin(i)[2:]\n",
        "        while len(bin_equivalent) < number_of_variables:\n",
        "            bin_equivalent = \"0\" + bin_equivalent\n",
        "        combinations_list.append(tuple(int(val) for val in bin_equivalent))\n",
        "\n",
        "    return combinations_list\n",
        "\n",
        "print(generate_truthtable())\n"
      ],
      "metadata": {
        "colab": {
          "base_uri": "https://localhost:8080/"
        },
        "id": "BBK1PKx74AMN",
        "outputId": "148fc35e-c405-4662-8f69-83e9abd3cbe9"
      },
      "execution_count": null,
      "outputs": [
        {
          "output_type": "stream",
          "name": "stdout",
          "text": [
            "[(0, 0, 0), (0, 0, 1), (0, 1, 0), (0, 1, 1), (1, 0, 0), (1, 0, 1), (1, 1, 0), (1, 1, 1)]\n"
          ]
        }
      ]
    },
    {
      "cell_type": "code",
      "source": [
        "def evaluate_propositional_logic(c_list):\n",
        "    expression = input(\"Enter the propositional logic expression (use A, B, C): \")\n",
        "\n",
        "    if len(c_list[0]) == 2:\n",
        "        print(\"A B f\")\n",
        "        for A, B in c_list:\n",
        "            evaluated_expression = eval(expression)\n",
        "            print(A, B, evaluated_expression)\n",
        "    elif len(c_list[0]) == 3:\n",
        "        print(\"A B C f\")\n",
        "        for A, B, C in c_list:\n",
        "            evaluated_expression = eval(expression)\n",
        "            print(A, B, C, evaluated_expression)\n",
        "\n",
        "evaluate_propositional_logic(generate_truthtable(3))\n"
      ],
      "metadata": {
        "colab": {
          "base_uri": "https://localhost:8080/"
        },
        "id": "wjRC2bLE4MZV",
        "outputId": "2bf34b71-f313-49af-8d59-d6062e910ae8"
      },
      "execution_count": null,
      "outputs": [
        {
          "output_type": "stream",
          "name": "stdout",
          "text": [
            "Enter the propositional logic expression (use A, B, C): A,B,C\n",
            "A B C f\n",
            "0 0 0 (0, 0, 0)\n",
            "0 0 1 (0, 0, 1)\n",
            "0 1 0 (0, 1, 0)\n",
            "0 1 1 (0, 1, 1)\n",
            "1 0 0 (1, 0, 0)\n",
            "1 0 1 (1, 0, 1)\n",
            "1 1 0 (1, 1, 0)\n",
            "1 1 1 (1, 1, 1)\n"
          ]
        }
      ]
    },
    {
      "cell_type": "markdown",
      "source": [
        "Modules\n",
        "Built-in Modules\n",
        "math module\n"
      ],
      "metadata": {
        "id": "BwX5l92m94j3"
      }
    },
    {
      "cell_type": "code",
      "source": [
        "import math\n",
        "\n",
        "def quadratic_formula(a, b, c):\n",
        "    if b**2 - (4*a*c) < 0:  # involving imaginary numbers\n",
        "        x1 = (complex(-b, math.floor(math.sqrt(abs(b**2 - (4*a*c)))))) / (2 * a)\n",
        "        x2 = (complex(-b, -1 * math.floor(math.sqrt(abs(b**2 - (4*a*c)))))) / (2 * a)\n"
      ],
      "metadata": {
        "id": "z6nm9_qS9LUd"
      },
      "execution_count": 1,
      "outputs": []
    },
    {
      "cell_type": "code",
      "source": [
        "import math\n",
        "\n",
        "def angle_demo():\n",
        "    angle = math.sin(math.pi/2)  # the default input is in radians\n",
        "    print(angle)\n",
        "\n",
        "    # To make it convenient, convert to radians\n",
        "    angle = math.sin(math.radians(90))\n",
        "    print(angle)\n",
        "\n",
        "# This is also similar for cosine and other trigonometric and hyperbolic functions\n",
        "angle_demo()\n"
      ],
      "metadata": {
        "colab": {
          "base_uri": "https://localhost:8080/"
        },
        "id": "MjayGV2c9M_2",
        "outputId": "9aee93f9-a6a5-48ab-d472-d662e62ba2f7"
      },
      "execution_count": null,
      "outputs": [
        {
          "output_type": "stream",
          "name": "stdout",
          "text": [
            "1.0\n",
            "1.0\n"
          ]
        }
      ]
    },
    {
      "cell_type": "markdown",
      "source": [
        "time and datetime module"
      ],
      "metadata": {
        "id": "a2rPdN_G98RV"
      }
    },
    {
      "cell_type": "code",
      "source": [
        "import time\n",
        "\n",
        "def pause():\n",
        "    for i in range(10, 0, -1):\n",
        "        print(f\"The program will end in {i}...\")\n",
        "        time.sleep(1)\n",
        "\n",
        "pause()\n"
      ],
      "metadata": {
        "colab": {
          "base_uri": "https://localhost:8080/"
        },
        "id": "mHoUVqp2-BuO",
        "outputId": "b875f507-0bd7-4315-8ef2-29110aeebb0d"
      },
      "execution_count": null,
      "outputs": [
        {
          "output_type": "stream",
          "name": "stdout",
          "text": [
            "The program will end in 10...\n",
            "The program will end in 9...\n",
            "The program will end in 8...\n",
            "The program will end in 7...\n",
            "The program will end in 6...\n",
            "The program will end in 5...\n",
            "The program will end in 4...\n",
            "The program will end in 3...\n",
            "The program will end in 2...\n",
            "The program will end in 1...\n"
          ]
        }
      ]
    },
    {
      "cell_type": "code",
      "source": [
        "def current_time():\n",
        "    t = time.strftime(\"%I:%M %p\")\n",
        "    return t\n",
        "\n",
        "print(current_time())\n"
      ],
      "metadata": {
        "colab": {
          "base_uri": "https://localhost:8080/"
        },
        "id": "JrDahk3_-azd",
        "outputId": "f8e23a61-ea7a-4ee6-bb8e-542f0f5c280a"
      },
      "execution_count": null,
      "outputs": [
        {
          "output_type": "stream",
          "name": "stdout",
          "text": [
            "09:39 AM\n"
          ]
        }
      ]
    },
    {
      "cell_type": "code",
      "source": [
        "def current_date():\n",
        "    d = time.strftime(\"%b %d %Y\")\n",
        "    return d\n",
        "\n",
        "print(current_date())\n"
      ],
      "metadata": {
        "colab": {
          "base_uri": "https://localhost:8080/"
        },
        "id": "K8BaZ4AA-a-9",
        "outputId": "144eff77-3f84-439e-d30c-1e78cefff4a4"
      },
      "execution_count": null,
      "outputs": [
        {
          "output_type": "stream",
          "name": "stdout",
          "text": [
            "Feb 15 2025\n"
          ]
        }
      ]
    },
    {
      "cell_type": "markdown",
      "source": [
        "User-defined Modules"
      ],
      "metadata": {
        "id": "SsT7c53u-_Oo"
      }
    },
    {
      "cell_type": "code",
      "source": [
        "import time\n",
        "\n",
        "def pause():\n",
        "    for i in range (10, 0, -1):\n",
        "        print (f\"The program will end in {i}..\")\n",
        "        time.sleep(1)\n",
        "\n",
        "\n",
        "\n",
        "def current_time():\n",
        "    t = time.strftime(\"%I:%M %p\")\n",
        "    return t\n",
        "\n",
        "\n",
        "def current_date():\n",
        "    d = time.strftime(\"%b %d %Y\")\n",
        "    return d"
      ],
      "metadata": {
        "id": "eJN1aAkQ_dfg"
      },
      "execution_count": 8,
      "outputs": []
    },
    {
      "cell_type": "code",
      "source": [
        "print (\"The current time is\", current_time())\n",
        "print (\"The current date is\", current_date())\n"
      ],
      "metadata": {
        "colab": {
          "base_uri": "https://localhost:8080/"
        },
        "id": "vI2koS6v_mwu",
        "outputId": "5edc3e70-d6bb-4e0c-dc94-714f0c96c252"
      },
      "execution_count": 9,
      "outputs": [
        {
          "output_type": "stream",
          "name": "stdout",
          "text": [
            "The current time is 02:12 AM\n",
            "The current date is Feb 23 2025\n"
          ]
        }
      ]
    },
    {
      "cell_type": "markdown",
      "source": [
        "SUPPLEMENTARY ACTIVITY"
      ],
      "metadata": {
        "id": "_r-jTNLJAaOX"
      }
    },
    {
      "cell_type": "code",
      "source": [
        "def censor_sentence(sentence, bad_words):\n",
        "    words = sentence.split()\n",
        "    for i, word in enumerate(words):\n",
        "        if word in bad_words:\n",
        "            words[i] = '*' * len(word)\n",
        "    return ' '.join(words)\n",
        "\n",
        "# Get user inputs\n",
        "sentence = input(\"Enter the sentence: \")\n",
        "bad_words = input(\"Enter the bad words separated by commas: \").split(',')\n",
        "\n",
        "print(\"Filtered sentence:\", censor_sentence(sentence, bad_words))\n"
      ],
      "metadata": {
        "colab": {
          "base_uri": "https://localhost:8080/"
        },
        "id": "zwuuTgiOAeEH",
        "outputId": "0fca434d-7e7a-4fae-beb3-8a2bd8fcc636"
      },
      "execution_count": 10,
      "outputs": [
        {
          "output_type": "stream",
          "name": "stdout",
          "text": [
            "Enter the sentence: You're bad\n",
            "Enter the bad words separated by commas: bad\n",
            "Filtered sentence: You're ***\n"
          ]
        }
      ]
    },
    {
      "cell_type": "code",
      "source": [
        "import math\n",
        "\n",
        "def projectilemotion_solver(speed, angle_deg):\n",
        "    g = 9.81  # acceleration due to gravity in m/s^2\n",
        "    angle_rad = math.radians(angle_deg)\n",
        "\n",
        "    range_horizontal = (speed**2 * math.sin(2 * angle_rad)) / g\n",
        "    max_height = (speed**2 * math.sin(angle_rad)**2) / (2 * g)\n",
        "\n",
        "    return range_horizontal, max_height\n",
        "\n",
        "if __name__ == \"__main__\":\n",
        "    range_horizontal, max_height = projectilemotion_solver(11.0, 20.0)\n",
        "    print(f\"Horizontal Range: {range_horizontal:.2f} meters\")\n",
        "    print(f\"Maximum Height: {max_height:.2f} meters\")\n"
      ],
      "metadata": {
        "colab": {
          "base_uri": "https://localhost:8080/"
        },
        "id": "R_8AN8t8CZYA",
        "outputId": "d508e5db-e7a3-41ff-f3f1-5c4d4185142e"
      },
      "execution_count": null,
      "outputs": [
        {
          "output_type": "stream",
          "name": "stdout",
          "text": [
            "Horizontal Range: 7.93 meters\n",
            "Maximum Height: 0.72 meters\n"
          ]
        }
      ]
    },
    {
      "cell_type": "code",
      "source": [
        "import math\n",
        "\n",
        "def quadratic_solver(a, b, c):\n",
        "\n",
        "    discriminant = b**2 - 4*a*c\n",
        "    if discriminant > 0:\n",
        "        root1 = (-b + math.sqrt(discriminant)) / (2*a)\n",
        "        root2 = (-b - math.sqrt(discriminant)) / (2*a)\n",
        "        return root1, root2\n",
        "    elif discriminant == 0:\n",
        "        root = -b / (2*a)\n",
        "        return root,\n",
        "    else:\n",
        "        return \"No real roots\"\n",
        "\n",
        "def log_to_file(a, b, c, result):\n",
        "    with open(\"quadratic_solutions.txt\", \"a\") as file:\n",
        "        file.write(f\"Equation: {a}x^2 + {b}x + {c} = 0\\n\")\n",
        "        file.write(f\"Solution: {result}\\n\")\n",
        "        file.write(\"-\" * 30 + \"\\n\")\n",
        "\n",
        "def main():\n",
        "    a = float(input(\"Enter coefficient a: \"))\n",
        "    b = float(input(\"Enter coefficient b: \"))\n",
        "    c = float(input(\"Enter coefficient c: \"))\n",
        "\n",
        "    if a == 0:\n",
        "        print(\"Not a quadratic equation.\")\n",
        "        return\n",
        "\n",
        "    result = quadratic_solver(a, b, c)\n",
        "    print(\"Solution:\", result)\n",
        "    log_to_file(a, b, c, result)\n",
        "\n",
        "if __name__ == \"__main__\":\n",
        "    main()\n"
      ],
      "metadata": {
        "colab": {
          "base_uri": "https://localhost:8080/"
        },
        "id": "nAjVfY-pCZkf",
        "outputId": "d6afc2a8-87d0-4bc4-8e00-994f3d3ffef4"
      },
      "execution_count": 22,
      "outputs": [
        {
          "output_type": "stream",
          "name": "stdout",
          "text": [
            "Enter coefficient a: 1\n",
            "Enter coefficient b: -4\n",
            "Enter coefficient c: 3\n",
            "Solution: (3.0, 1.0)\n"
          ]
        }
      ]
    }
  ]
}