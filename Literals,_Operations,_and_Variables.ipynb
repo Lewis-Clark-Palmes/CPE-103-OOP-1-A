{
  "cells": [
    {
      "cell_type": "markdown",
      "metadata": {
        "id": "view-in-github",
        "colab_type": "text"
      },
      "source": [
        "<a href=\"https://colab.research.google.com/github/Lewis-Clark-Palmes/CPE-103-OOP-1-A/blob/main/Literals%2C_Operations%2C_and_Variables.ipynb\" target=\"_parent\"><img src=\"https://colab.research.google.com/assets/colab-badge.svg\" alt=\"Open In Colab\"/></a>"
      ]
    },
    {
      "cell_type": "code",
      "execution_count": 7,
      "metadata": {
        "colab": {
          "base_uri": "https://localhost:8080/"
        },
        "id": "E8LoglVUv7nS",
        "outputId": "07734030-326f-40bc-c3dd-792085365947"
      },
      "outputs": [
        {
          "output_type": "stream",
          "name": "stdout",
          "text": [
            "Student 1:\n",
            "Enter the name of the student: Lewis\n",
            "Enter the Hands-on activity score: 98\n",
            "Enter the Quiz score: 98\n",
            "Enter the Assignment score: 98\n",
            "Enter the Prelim Exam score: 98\n",
            "Enter the Midterm Exam score: 98\n",
            "Enter the Final Exam score: 98\n",
            "\n",
            "Student: Lewis\n",
            "Prelim Grade: 98.00\n",
            "Midterm Grade: 98.00\n",
            "Final Grade: 98.00\n",
            "UCC Numerical Grade: 1.00\n",
            "Status: Passed\n",
            "\n",
            "Student 2:\n",
            "Enter the name of the student: Clark\n",
            "Enter the Hands-on activity score: 60\n",
            "Enter the Quiz score: 60\n",
            "Enter the Assignment score: 60\n",
            "Enter the Prelim Exam score: 60\n",
            "Enter the Midterm Exam score: 60\n",
            "Enter the Final Exam score: 60\n",
            "\n",
            "Student: Clark\n",
            "Prelim Grade: 60.00\n",
            "Midterm Grade: 60.00\n",
            "Final Grade: 60.00\n",
            "UCC Numerical Grade: 3.00\n",
            "Status: Passed\n",
            "\n",
            "Student 3:\n",
            "Enter the name of the student: Palmes\n",
            "Enter the Hands-on activity score: 88\n",
            "Enter the Quiz score: 88\n",
            "Enter the Assignment score: 88\n",
            "Enter the Prelim Exam score: 88\n",
            "Enter the Midterm Exam score: 88\n",
            "Enter the Final Exam score: 88\n",
            "\n",
            "Student: Palmes\n",
            "Prelim Grade: 88.00\n",
            "Midterm Grade: 88.00\n",
            "Final Grade: 88.00\n",
            "UCC Numerical Grade: 1.75\n",
            "Status: Passed\n",
            "\n"
          ]
        }
      ],
      "source": [
        "def class_standing(ho_activity, quiz, assignment):\n",
        "    return 0.5 * ho_activity + 0.3 * quiz + 0.2 * assignment\n",
        "\n",
        "def prelim_grade(prelim_exam, prelim_cs):\n",
        "    return 0.5 * prelim_exam + 0.5 * prelim_cs\n",
        "\n",
        "def midterm_grade(prelim, midterm_exam, midterm_cs):\n",
        "    return (1/3 * prelim) + (2/3 * (0.5 * midterm_exam + 0.5 * midterm_cs))\n",
        "\n",
        "def final_grade(midterm, final_exam, final_cs):\n",
        "    return (1/3 * midterm) + (2/3 * (0.5 * final_exam + 0.5 * final_cs))\n",
        "\n",
        "def convert_to_ucc_grade(final):\n",
        "    grades = [(98, 1.0), (95, 1.25), (90, 1.5), (85, 1.75), (80, 2.0),\n",
        "              (75, 2.25), (70, 2.5), (65, 2.75), (60, 3.0)]\n",
        "    for score, ucc in grades:\n",
        "        if final >= score:\n",
        "            return ucc\n",
        "    return 5.0\n",
        "\n",
        "\n",
        "def input_and_calculate_grades():\n",
        "    name = input(\"Enter the name of the student: \")\n",
        "    ho_activity = float(input(\"Enter the Hands-on activity score: \"))\n",
        "    quiz = float(input(\"Enter the Quiz score: \"))\n",
        "    assignment = float(input(\"Enter the Assignment score: \"))\n",
        "    prelim_exam = float(input(\"Enter the Prelim Exam score: \"))\n",
        "    midterm_exam = float(input(\"Enter the Midterm Exam score: \"))\n",
        "    final_exam = float(input(\"Enter the Final Exam score: \"))\n",
        "\n",
        "    prelim_cs = class_standing(ho_activity, quiz, assignment)\n",
        "    prelim = prelim_grade(prelim_exam, prelim_cs)\n",
        "    midterm_cs = class_standing(ho_activity, quiz, assignment)\n",
        "    midterm = midterm_grade(prelim, midterm_exam, midterm_cs)\n",
        "    final_cs = class_standing(ho_activity, quiz, assignment)\n",
        "    final = final_grade(midterm, final_exam, final_cs)\n",
        "    ucc = convert_to_ucc_grade(final)\n",
        "\n",
        "\n",
        "    status = \"Passed\" if final >= 60 else \"Failed\"\n",
        "\n",
        "    print(f\"\\nStudent: {name}\")\n",
        "    print(f\"Prelim Grade: {prelim:.2f}\")\n",
        "    print(f\"Midterm Grade: {midterm:.2f}\")\n",
        "    print(f\"Final Grade: {final:.2f}\")\n",
        "    print(f\"UCC Numerical Grade: {ucc:.2f}\")\n",
        "    print(f\"Status: {status}\\n\")\n",
        "\n",
        "\n",
        "print(\"Student 1:\")\n",
        "input_and_calculate_grades()\n",
        "print(\"Student 2:\")\n",
        "input_and_calculate_grades()\n",
        "print(\"Student 3:\")\n",
        "input_and_calculate_grades()\n",
        "\n"
      ]
    }
  ],
  "metadata": {
    "colab": {
      "provenance": [],
      "include_colab_link": true
    },
    "kernelspec": {
      "display_name": "Python 3",
      "language": "python",
      "name": "python3"
    },
    "language_info": {
      "codemirror_mode": {
        "name": "ipython",
        "version": 3
      },
      "file_extension": ".py",
      "mimetype": "text/x-python",
      "name": "python",
      "nbconvert_exporter": "python",
      "pygments_lexer": "ipython3",
      "version": "3.7.3"
    }
  },
  "nbformat": 4,
  "nbformat_minor": 0
}