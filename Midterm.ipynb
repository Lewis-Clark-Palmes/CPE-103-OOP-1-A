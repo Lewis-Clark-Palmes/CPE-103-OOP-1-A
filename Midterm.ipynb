{
  "nbformat": 4,
  "nbformat_minor": 0,
  "metadata": {
    "colab": {
      "provenance": [],
      "authorship_tag": "ABX9TyPq1isLOHxka02oANiShq8O",
      "include_colab_link": true
    },
    "kernelspec": {
      "name": "python3",
      "display_name": "Python 3"
    },
    "language_info": {
      "name": "python"
    }
  },
  "cells": [
    {
      "cell_type": "markdown",
      "metadata": {
        "id": "view-in-github",
        "colab_type": "text"
      },
      "source": [
        "<a href=\"https://colab.research.google.com/github/Lewis-Clark-Palmes/CPE-103-OOP-1-A/blob/main/Midterm.ipynb\" target=\"_parent\"><img src=\"https://colab.research.google.com/assets/colab-badge.svg\" alt=\"Open In Colab\"/></a>"
      ]
    },
    {
      "cell_type": "markdown",
      "source": [
        "1-10"
      ],
      "metadata": {
        "id": "lODr-pdiTiQE"
      }
    },
    {
      "cell_type": "code",
      "execution_count": 3,
      "metadata": {
        "colab": {
          "base_uri": "https://localhost:8080/"
        },
        "id": "n800DNlTSojt",
        "outputId": "d45c7d16-7f8e-405d-e889-81d262c53985"
      },
      "outputs": [
        {
          "output_type": "stream",
          "name": "stdout",
          "text": [
            "1\n",
            "2\n"
          ]
        }
      ],
      "source": [
        "i=1\n",
        "while True:\n",
        "  if i%3==0:\n",
        "      break\n",
        "  print(i)\n",
        "\n",
        "  i+=1"
      ]
    },
    {
      "cell_type": "markdown",
      "source": [
        "11-20"
      ],
      "metadata": {
        "id": "x-Dkf7FKT9vE"
      }
    },
    {
      "cell_type": "code",
      "source": [
        "i=0\n",
        "while i <5:\n",
        "  print (i)\n",
        "  i+=1\n",
        "  if i==3:\n",
        "    break\n",
        "else:\n",
        "  print (0)"
      ],
      "metadata": {
        "colab": {
          "base_uri": "https://localhost:8080/"
        },
        "id": "jat_d8DBT92T",
        "outputId": "d53e33ca-3086-4dae-f1a5-8aef4a844003"
      },
      "execution_count": 4,
      "outputs": [
        {
          "output_type": "stream",
          "name": "stdout",
          "text": [
            "0\n",
            "1\n",
            "2\n"
          ]
        }
      ]
    },
    {
      "cell_type": "markdown",
      "source": [
        "21-30"
      ],
      "metadata": {
        "id": "WXw9s-EjUc6c"
      }
    },
    {
      "cell_type": "code",
      "source": [
        "def f1():\n",
        "  x=15\n",
        "  print(x)\n",
        "x=12\n",
        "f1()"
      ],
      "metadata": {
        "colab": {
          "base_uri": "https://localhost:8080/"
        },
        "id": "lU0oecBVUdCz",
        "outputId": "c236e1ec-e04f-42e3-a0c3-cc8b4ca41060"
      },
      "execution_count": 5,
      "outputs": [
        {
          "output_type": "stream",
          "name": "stdout",
          "text": [
            "15\n"
          ]
        }
      ]
    },
    {
      "cell_type": "markdown",
      "source": [
        "31-40"
      ],
      "metadata": {
        "id": "2DzBtninUwCU"
      }
    },
    {
      "cell_type": "code",
      "source": [
        "class Person():\n",
        "  def __init__(self):\n",
        "    self.__name=\"Default Name\"\n",
        "\n",
        "person1=Person()\n",
        "print(self.__name)"
      ],
      "metadata": {
        "colab": {
          "base_uri": "https://localhost:8080/",
          "height": 176
        },
        "id": "ftzf7qubUxhE",
        "outputId": "f6163dd4-5a90-4da2-f787-d7ccf41323a7"
      },
      "execution_count": 22,
      "outputs": [
        {
          "output_type": "error",
          "ename": "NameError",
          "evalue": "name 'self' is not defined",
          "traceback": [
            "\u001b[0;31m---------------------------------------------------------------------------\u001b[0m",
            "\u001b[0;31mNameError\u001b[0m                                 Traceback (most recent call last)",
            "\u001b[0;32m<ipython-input-22-0232b5905c52>\u001b[0m in \u001b[0;36m<cell line: 0>\u001b[0;34m()\u001b[0m\n\u001b[1;32m      4\u001b[0m \u001b[0;34m\u001b[0m\u001b[0m\n\u001b[1;32m      5\u001b[0m \u001b[0mperson1\u001b[0m\u001b[0;34m=\u001b[0m\u001b[0mPerson\u001b[0m\u001b[0;34m(\u001b[0m\u001b[0;34m)\u001b[0m\u001b[0;34m\u001b[0m\u001b[0;34m\u001b[0m\u001b[0m\n\u001b[0;32m----> 6\u001b[0;31m \u001b[0mprint\u001b[0m\u001b[0;34m(\u001b[0m\u001b[0mself\u001b[0m\u001b[0;34m.\u001b[0m\u001b[0m__name\u001b[0m\u001b[0;34m)\u001b[0m\u001b[0;34m\u001b[0m\u001b[0;34m\u001b[0m\u001b[0m\n\u001b[0m",
            "\u001b[0;31mNameError\u001b[0m: name 'self' is not defined"
          ]
        }
      ]
    },
    {
      "cell_type": "markdown",
      "source": [
        "41-60"
      ],
      "metadata": {
        "id": "nQvNaJuLVqck"
      }
    },
    {
      "cell_type": "code",
      "source": [
        "class Person():\n",
        "  def __init__(self):\n",
        "    self.__name=\"Default Name\"\n",
        "\n",
        "person1=Person()\n",
        "person2=Person()\n",
        "print(person1)\n",
        "print(person2)\n"
      ],
      "metadata": {
        "colab": {
          "base_uri": "https://localhost:8080/"
        },
        "id": "VRa2W_AmVqjc",
        "outputId": "3119d8bb-e792-47c1-8008-5a21a9bdfbcf"
      },
      "execution_count": 23,
      "outputs": [
        {
          "output_type": "stream",
          "name": "stdout",
          "text": [
            "<__main__.Person object at 0x78b59ac9e950>\n",
            "<__main__.Person object at 0x78b59ac9fb10>\n"
          ]
        }
      ]
    },
    {
      "cell_type": "markdown",
      "source": [
        "61-80"
      ],
      "metadata": {
        "id": "72HVWHRYWhgs"
      }
    },
    {
      "cell_type": "code",
      "source": [
        "class Student():\n",
        "  def __init__(self,student_number,name):\n",
        "    self.stu_number=student_number\n",
        "    self.stu_name=name\n",
        "\n",
        "class DSCOfficer(Student):\n",
        "  def __init__(self,department):\n",
        "    self.department=department\n",
        "    self.event_list=[]\n",
        "\n",
        "  def initiateEvent(self,name):\n",
        "    self.event_list.append({\"name\":name})\n",
        "\n",
        "officer1= DSCOfficer(\"CpE\")\n",
        "officer1.initiateEvent(\"General Assembly\")\n",
        "print(officer1.event_list)"
      ],
      "metadata": {
        "colab": {
          "base_uri": "https://localhost:8080/"
        },
        "id": "ik3rMnBLWhPF",
        "outputId": "360c8c3c-4c9e-4a31-fcd3-e3940eca6326"
      },
      "execution_count": 26,
      "outputs": [
        {
          "output_type": "stream",
          "name": "stdout",
          "text": [
            "[{'name': 'General Assembly'}]\n"
          ]
        }
      ]
    }
  ]
}